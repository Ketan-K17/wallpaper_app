{
 "cells": [
  {
   "cell_type": "code",
   "execution_count": null,
   "id": "c3007da9",
   "metadata": {},
   "outputs": [],
   "source": [
    "from langchain_core.messages import AIMessage, HumanMessage, SystemMessage\n",
    "from langchain_google_vertexai.vision_models import VertexAIImageGeneratorChat\n",
    "\n",
    "import os\n",
    "from dotenv import load_dotenv\n",
    "load_dotenv()"
   ]
  },
  {
   "cell_type": "code",
   "execution_count": null,
   "id": "466ac63b",
   "metadata": {},
   "outputs": [],
   "source": [
    "# Create Image Generation model Object\n",
    "generator = VertexAIImageGeneratorChat(api_key=os.getenv(\"GEMINI_API_KEY\"))"
   ]
  },
  {
   "cell_type": "code",
   "execution_count": null,
   "id": "d242a461",
   "metadata": {},
   "outputs": [],
   "source": [
    "messages = [\n",
    "    SystemMessage(content=[\"you're an AI wallpaper generator, which generates wallpaper images based on the values of 2 parameters, and a description field.\\n\\nthe 2 parameters -\\n\\nGenre - Nature | Infrastructure | Still life | Sports | Cars\\n\\nArt style - Comics | Anime | Realistic | Hazy | Pencil\\n\\nHere is the image you need to generate -\\n\\nGenre - Infrastructure\\nart style - Pencil\\nDescription - A pencil sketch of the Eiffel tower if one were to stand very close to its base, looking upwards.\"])\n",
    "]\n",
    "response = generator.invoke(messages)"
   ]
  },
  {
   "cell_type": "code",
   "execution_count": null,
   "id": "9120fc87",
   "metadata": {},
   "outputs": [],
   "source": [
    "# To view the generated Image\n",
    "generated_image = response.content[0]"
   ]
  },
  {
   "cell_type": "code",
   "execution_count": null,
   "id": "9d3616e2",
   "metadata": {},
   "outputs": [],
   "source": [
    "import base64\n",
    "import io\n",
    "\n",
    "from PIL import Image\n",
    "\n",
    "# Parse response object to get base64 string for image\n",
    "img_base64 = generated_image[\"image_url\"][\"url\"].split(\",\")[-1]\n",
    "\n",
    "# Convert base64 string to Image\n",
    "img = Image.open(io.BytesIO(base64.decodebytes(bytes(img_base64, \"utf-8\"))))\n",
    "\n",
    "# view Image\n",
    "img.show()"
   ]
  }
 ],
 "metadata": {
  "kernelspec": {
   "display_name": "ai_wallpaper_venv",
   "language": "python",
   "name": "python3"
  },
  "language_info": {
   "codemirror_mode": {
    "name": "ipython",
    "version": 3
   },
   "file_extension": ".py",
   "mimetype": "text/x-python",
   "name": "python",
   "nbconvert_exporter": "python",
   "pygments_lexer": "ipython3",
   "version": "3.11.11"
  }
 },
 "nbformat": 4,
 "nbformat_minor": 5
}
